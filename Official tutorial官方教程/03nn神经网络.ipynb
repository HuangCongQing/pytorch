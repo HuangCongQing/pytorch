{
 "metadata": {
  "language_info": {
   "codemirror_mode": {
    "name": "ipython",
    "version": 3
   },
   "file_extension": ".py",
   "mimetype": "text/x-python",
   "name": "python",
   "nbconvert_exporter": "python",
   "pygments_lexer": "ipython3",
   "version": "3.6.12-final"
  },
  "orig_nbformat": 2,
  "kernelspec": {
   "name": "python361264bittorchcondac32bb4459542487a904c87a0f2756d06",
   "display_name": "Python 3.6.12 64-bit ('torch': conda)"
  }
 },
 "nbformat": 4,
 "nbformat_minor": 2,
 "cells": [
  {
   "source": [
    "参考：\n",
    "* https://pytorch.apachecn.org/docs/1.4/blitz/neural_networks_tutorial.html\n",
    "* https://mp.weixin.qq.com/s/kDGHQQ_wRQXds34HHCQNOQ  神经网络\n",
    "* 细节：https://zhuanlan.zhihu.com/p/315092879\n",
    "\n",
    "\n",
    "可以使用`torch.nn`包来构建神经网络.\n",
    "\n",
    "我们已经介绍了`autograd`包，**`nn`包则依赖于`autograd`包来定义模型并对它们求导。**\n",
    "* **一个`nn.Module`包含各个层和一个`forward(input)`方法，该方法返回`output`。**\n",
    "\n",
    "例如，下面这个神经网络可以对数字进行分类：\n",
    "\n",
    "![convnet](https://pytorch.org/tutorials/_images/mnist.png)\n",
    "\n",
    "这是一个简单的前馈神经网络(feed-forward network）。它接受一个输入，然后将它送入下一层，一层接一层的传递，最后给出输出。\n",
    "\n",
    "### 一个神经网络的典型训练过程如下：\n",
    "\n",
    "* 定义包含一些可学习参数(或者叫权重）的神经网络\n",
    "* 在输入数据集上迭代\n",
    "* 通过网络处理输入\n",
    "* 计算loss(输出和正确答案的距离）\n",
    "* 将梯度反向传播给网络的参数\n",
    "* 更新网络的权重，一般使用一个简单的规则：`weight = weight - learning_rate * gradient`\n"
   ],
   "cell_type": "markdown",
   "metadata": {}
  },
  {
   "source": [
    "## 定义网络\n",
    "\n",
    "在Pytorch中创建一个神经网络需要继承torch.nn.module定义一个类，在这个类中主要是有两个函数需要重写，\n",
    "* 一个是__init__()函数，需要使用super(Net, self).__init__()来方便后续调用父类的函数。__init__()中还需要定义好需要使用到的所有的神经网络的层。\n",
    "* 另外一个函数是forward()函数，他是前向计算的函数，定义好前向计算就表示从输入到输出的计算图定义好了，反向传播根据前向计算图自动计算的，不用自己定义，大大方便了网络的创建。以下代码就是创建了一个有两个卷积层，三个全连接的神经网络结构。\n"
   ],
   "cell_type": "markdown",
   "metadata": {}
  },
  {
   "cell_type": "code",
   "execution_count": 19,
   "metadata": {},
   "outputs": [
    {
     "output_type": "stream",
     "name": "stdout",
     "text": [
      "Net(\n  (conv1): Conv2d(1, 6, kernel_size=(5, 5), stride=(1, 1))\n  (conv2): Conv2d(6, 16, kernel_size=(5, 5), stride=(1, 1))\n  (fc1): Linear(in_features=400, out_features=120, bias=True)\n  (fc2): Linear(in_features=120, out_features=84, bias=True)\n  (fc3): Linear(in_features=84, out_features=10, bias=True)\n)\n"
     ]
    }
   ],
   "source": [
    "import torch\n",
    "import torch.nn as nn\n",
    "import torch.nn.functional as F\n",
    "\n",
    "\n",
    "class Net(nn.Module):\n",
    "\n",
    "    def __init__(self):  # 定义一些函数\n",
    "        super(Net, self).__init__()\n",
    "        # 输入图像channel：1；输出channel：6；5x5卷积核\n",
    "        self.conv1 = nn.Conv2d(1, 6, 5)  # 卷积   nn.Conv2d 接受一个4维的张量，即nSamples(BatchSize) x nChannels x Height x Width\n",
    "        self.conv2 = nn.Conv2d(6, 16, 5)\n",
    "        # an affine operation: y = Wx + b  仿射操作\n",
    "        self.fc1 = nn.Linear(16 * 5 * 5, 120)   # 输出channel：16；5x5卷积核   全连接\n",
    "        self.fc2 = nn.Linear(120, 84)\n",
    "        self.fc3 = nn.Linear(84, 10)\n",
    "\n",
    "    def forward(self, x):\n",
    "        # 2x2 Max pooling\n",
    "        x = F.max_pool2d(F.relu(self.conv1(x)), (2, 2))\n",
    "        # 如果是方阵,则可以只使用一个数字进行定义\n",
    "        x = F.max_pool2d(F.relu(self.conv2(x)), 2)\n",
    "        x = x.view(-1, self.num_flat_features(x)) # 修改维度，调用num_flat_features函数\n",
    "        x = F.relu(self.fc1(x))  # relu\n",
    "        x = F.relu(self.fc2(x))  # relu\n",
    "        x = self.fc3(x)\n",
    "        return x\n",
    "\n",
    "    def num_flat_features(self, x):  # flat 平面  被上面forward调用   这里的num_flat_features()函数可以认为是一个helper函数。\n",
    "        size = x.size()[1:]  # 除去批处理维度的其他所有维度\n",
    "        num_features = 1\n",
    "        for s in size:\n",
    "            num_features *= s\n",
    "        return num_features\n",
    "\n",
    "\n",
    "net = Net()\n",
    "print(net) # 打印这个网络信息"
   ]
  },
  {
   "source": [
    "我们只需要定义 forward 函数，backward函数会在使用autograd时自动定义，backward函数用来计算导数。我们可以在 forward 函数中使用任何针对张量的操作和计算。\n",
    "\n",
    "\n",
    "\n"
   ],
   "cell_type": "markdown",
   "metadata": {}
  },
  {
   "cell_type": "code",
   "execution_count": 20,
   "metadata": {},
   "outputs": [
    {
     "output_type": "stream",
     "name": "stdout",
     "text": [
      "10\ntorch.Size([6, 1, 5, 5])\n"
     ]
    }
   ],
   "source": [
    "# 一个模型的可学习参数可以通过net.parameters()返回\n",
    "params = list(net.parameters())\n",
    "print(len(params)) # 10\n",
    "print(params[0].size())  # conv1's .weight   torch.Size([6, 1, 5, 5])"
   ]
  },
  {
   "cell_type": "code",
   "execution_count": 21,
   "metadata": {},
   "outputs": [
    {
     "output_type": "stream",
     "name": "stdout",
     "text": [
      "tensor([[-0.0156, -0.0351,  0.0496,  0.0336,  0.0285,  0.0076,  0.1551, -0.0653,\n          0.1051, -0.0059]], grad_fn=<AddmmBackward>)\n"
     ]
    }
   ],
   "source": [
    "# 让我们尝试一个随机的32x32的输入。注意:这个网络(LeNet）的期待输入是32x32的张量。如果使用MNIST数据集来训练这个网络，要把图片大小重新调整到32x32。\n",
    "\n",
    "input = torch.randn(1, 1, 32, 32)  # 声明一个1x1x32x32的4维张量作为网络的输入 ,nSamples(BatchSize) x nChannels x Height x \n",
    "out = net(input)  # 输入四维\n",
    "print(out)\n",
    "\n"
   ]
  },
  {
   "source": [
    "目前为止，我们讨论了：\n",
    "\n",
    "* 定义一个神经网络\n",
    "* 处理输入调用backward\n",
    "\n",
    "还剩下：\n",
    "\n",
    "* 计算损失\n",
    "* 更新网络权重"
   ],
   "cell_type": "markdown",
   "metadata": {}
  },
  {
   "source": [
    "## 损失函数\n",
    "\n",
    "一个损失函数接受一对(output, target)作为输入，计算一个值来估计网络的输出和目标值相差多少。\n",
    "\n",
    "nn包中有很多不同的损失函数。nn.MSELoss是比较简单的一种，它计算输出和目标的均方误差(mean-squared error）。\n",
    "\n",
    "```\n",
    "criterion = nn.MSELoss()\n",
    "loss = criterion(output, target)\n",
    "\n",
    "```\n",
    "\n"
   ],
   "cell_type": "markdown",
   "metadata": {}
  },
  {
   "cell_type": "code",
   "execution_count": 22,
   "metadata": {},
   "outputs": [
    {
     "output_type": "stream",
     "name": "stdout",
     "text": [
      "tensor(1.4827, grad_fn=<MseLossBackward>)\n"
     ]
    }
   ],
   "source": [
    "output = net(input)\n",
    "target = torch.randn(10)  # 本例子中使用模拟数据\n",
    "target = target.view(1, -1)  # 使目标值与数据值尺寸一致\n",
    "criterion = nn.MSELoss()\n",
    "\n",
    "loss = criterion(output, target)\n",
    "print(loss)"
   ]
  },
  {
   "cell_type": "code",
   "execution_count": 23,
   "metadata": {},
   "outputs": [
    {
     "output_type": "stream",
     "name": "stdout",
     "text": [
      "<MseLossBackward object at 0x7fcca0f14e10>\n<AddmmBackward object at 0x7fcca0f14e10>\n<AccumulateGrad object at 0x7fcca1be45c0>\n"
     ]
    }
   ],
   "source": [
    "print(loss.grad_fn)  # MSELoss\n",
    "print(loss.grad_fn.next_functions[0][0])  # Linear\n",
    "print(loss.grad_fn.next_functions[0][0].next_functions[0][0])  # ReLU"
   ]
  },
  {
   "source": [
    "## 反向传播\n"
   ],
   "cell_type": "markdown",
   "metadata": {}
  },
  {
   "cell_type": "code",
   "execution_count": 24,
   "metadata": {},
   "outputs": [
    {
     "output_type": "stream",
     "name": "stdout",
     "text": [
      "conv1.bias.grad before backward\nNone\nconv1.bias.grad after backward\ntensor([-0.0102,  0.0089,  0.0010, -0.0100, -0.0012,  0.0031])\n"
     ]
    }
   ],
   "source": [
    "net.zero_grad()     # 清零所有参数(parameter）的梯度缓存\n",
    "\n",
    "print('conv1.bias.grad before backward')\n",
    "print(net.conv1.bias.grad)\n",
    "\n",
    "loss.backward()  # loss的反向传播\n",
    "\n",
    "print('conv1.bias.grad after backward')\n",
    "print(net.conv1.bias.grad)"
   ]
  },
  {
   "source": [
    "## 更新权重"
   ],
   "cell_type": "markdown",
   "metadata": {}
  },
  {
   "cell_type": "code",
   "execution_count": 25,
   "metadata": {},
   "outputs": [],
   "source": [
    "import torch.optim as optim\n",
    "\n",
    "# 创建优化器(optimizer）\n",
    "optimizer = optim.SGD(net.parameters(), lr=0.01)\n",
    "\n",
    "# 在训练的迭代中：\n",
    "optimizer.zero_grad()   # 清零梯度缓存\n",
    "output = net(input)\n",
    "loss = criterion(output, target)\n",
    "loss.backward()\n",
    "optimizer.step()    # 更新参数"
   ]
  },
  {
   "cell_type": "code",
   "execution_count": null,
   "metadata": {},
   "outputs": [],
   "source": []
  }
 ]
}