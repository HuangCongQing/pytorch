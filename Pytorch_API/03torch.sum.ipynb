{
 "cells": [
  {
   "cell_type": "markdown",
   "source": [
    "# torch.sum()\n",
    "https://blog.csdn.net/qq_39463274/article/details/105145029"
   ],
   "metadata": {
    "pycharm": {
     "name": "#%% md\n"
    }
   }
  },
  {
   "cell_type": "markdown",
   "source": [],
   "metadata": {
    "pycharm": {
     "name": "#%% md\n"
    }
   }
  },
  {
   "cell_type": "code",
   "execution_count": 22,
   "source": [
    "import torch\n",
    "\n",
    "x = torch.ones(1,1,2,4)\n",
    "x1 = x*2\n",
    "blocks = []\n",
    "blocks.append(x)\n",
    "blocks.append(x1)\n",
    "\n",
    "ups = [block for i, block in enumerate(blocks)]\n",
    "print(x)\n",
    "print(x1)\n",
    "print(\"直接相加：\", x+x1)"
   ],
   "outputs": [
    {
     "output_type": "stream",
     "name": "stdout",
     "text": [
      "tensor([[[[1., 1., 1., 1.],\n",
      "          [1., 1., 1., 1.]]]])\n",
      "tensor([[[[2., 2., 2., 2.],\n",
      "          [2., 2., 2., 2.]]]])\n",
      "直接相加： tensor([[[[3., 3., 3., 3.],\n",
      "          [3., 3., 3., 3.]]]])\n"
     ]
    }
   ],
   "metadata": {
    "pycharm": {
     "name": "#%%\n"
    }
   }
  },
  {
   "cell_type": "code",
   "execution_count": 24,
   "source": [
    "x =1\n",
    "y =2\n",
    "mylist = [x, y]\n",
    "\n",
    "print(mylist)"
   ],
   "outputs": [
    {
     "output_type": "stream",
     "name": "stdout",
     "text": [
      "[1, 2]\n"
     ]
    }
   ],
   "metadata": {
    "pycharm": {
     "name": "#%%\n"
    }
   }
  },
  {
   "cell_type": "code",
   "execution_count": null,
   "source": [],
   "outputs": [],
   "metadata": {
    "pycharm": {
     "name": "#%%\n"
    }
   }
  }
 ],
 "metadata": {
  "orig_nbformat": 4,
  "language_info": {
   "name": "python",
   "version": "3.6.12",
   "mimetype": "text/x-python",
   "codemirror_mode": {
    "name": "ipython",
    "version": 3
   },
   "pygments_lexer": "ipython3",
   "nbconvert_exporter": "python",
   "file_extension": ".py"
  },
  "kernelspec": {
   "name": "python3",
   "display_name": "Python 3.6.12 64-bit ('torch': conda)"
  },
  "interpreter": {
   "hash": "33889632b9843cd8adbd3566ea201a4089a307e6b2cea65a3733113e94cf9c17"
  }
 },
 "nbformat": 4,
 "nbformat_minor": 2
}