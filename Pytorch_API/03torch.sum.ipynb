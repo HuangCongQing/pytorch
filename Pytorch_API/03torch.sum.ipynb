{
 "cells": [
  {
   "cell_type": "markdown",
   "metadata": {
    "pycharm": {
     "name": "#%% md\n"
    }
   },
   "source": [
    "# torch.sum()\n",
    "https://blog.csdn.net/qq_39463274/article/details/105145029"
   ]
  },
  {
   "cell_type": "code",
   "execution_count": 5,
   "metadata": {
    "pycharm": {
     "name": "#%% md\n"
    }
   },
   "outputs": [
    {
     "name": "stdout",
     "output_type": "stream",
     "text": [
      "tensor([[0, 1, 2],\n",
      "        [3, 4, 5]])\n",
      "tensor([3, 5, 7]) tensor([ 3, 12])\n"
     ]
    }
   ],
   "source": [
    "import torch\n",
    "out = torch.arange(6).reshape(2,3)\n",
    "print(out)\n",
    "print(torch.sum(out,dim=0), torch.sum(out,dim=1)) # 所在元素内的维度处理"
   ]
  },
  {
   "cell_type": "code",
   "execution_count": 2,
   "metadata": {
    "pycharm": {
     "name": "#%%\n"
    }
   },
   "outputs": [
    {
     "name": "stdout",
     "output_type": "stream",
     "text": [
      "[tensor([[[[1., 1., 1., 1.],\n",
      "          [1., 1., 1., 1.]]]]), tensor([[[[2., 2., 2., 2.],\n",
      "          [2., 2., 2., 2.]]]])]\n",
      "tensor([[[[1., 1., 1., 1.],\n",
      "          [1., 1., 1., 1.]]]])\n",
      "tensor([[[[2., 2., 2., 2.],\n",
      "          [2., 2., 2., 2.]]]])\n",
      "直接相加： tensor([[[[3., 3., 3., 3.],\n",
      "          [3., 3., 3., 3.]]]])\n"
     ]
    }
   ],
   "source": [
    "import torch\n",
    "\n",
    "x = torch.ones(1,1,2,4)\n",
    "x1 = x*2\n",
    "blocks = []\n",
    "blocks.append(x)\n",
    "blocks.append(x1)\n",
    "\n",
    "ups = [block for i, block in enumerate(blocks)]\n",
    "print(ups)\n",
    "print(x)\n",
    "print(x1)\n",
    "print(\"直接相加：\", x+x1)"
   ]
  },
  {
   "cell_type": "code",
   "execution_count": 24,
   "metadata": {
    "pycharm": {
     "name": "#%%\n"
    }
   },
   "outputs": [
    {
     "name": "stdout",
     "output_type": "stream",
     "text": [
      "[1, 2]\n"
     ]
    }
   ],
   "source": [
    "x =1\n",
    "y =2\n",
    "mylist = [x, y]\n",
    "\n",
    "print(mylist)"
   ]
  },
  {
   "cell_type": "code",
   "execution_count": null,
   "metadata": {
    "pycharm": {
     "name": "#%%\n"
    }
   },
   "outputs": [],
   "source": []
  }
 ],
 "metadata": {
  "kernelspec": {
   "display_name": "Python 3.8.13 ('pcdet')",
   "language": "python",
   "name": "python3"
  },
  "language_info": {
   "codemirror_mode": {
    "name": "ipython",
    "version": 3
   },
   "file_extension": ".py",
   "mimetype": "text/x-python",
   "name": "python",
   "nbconvert_exporter": "python",
   "pygments_lexer": "ipython3",
   "version": "3.8.13"
  },
  "orig_nbformat": 4,
  "vscode": {
   "interpreter": {
    "hash": "4a4bb52955cb4b7ba3167560f52fbe8257746766a280283c0daccbe36f0c9125"
   }
  }
 },
 "nbformat": 4,
 "nbformat_minor": 2
}
