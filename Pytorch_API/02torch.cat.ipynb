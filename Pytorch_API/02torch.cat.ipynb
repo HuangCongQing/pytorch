{
 "cells": [
  {
   "cell_type": "markdown",
   "source": [
    "## feature1 = feature[:,0].type_as(feature).view(-1, 1) # ！！！！注意列表中的tensor的维度必须一致"
   ],
   "metadata": {}
  },
  {
   "cell_type": "code",
   "execution_count": 11,
   "source": [
    "import torch\n",
    "\n",
    "x = torch.ones(1,1,2,4)\n",
    "x1 = x*2\n",
    "blocks = []\n",
    "blocks.append(x)\n",
    "blocks.append(x1)\n",
    "\n",
    "ups = [block for i, block in enumerate(blocks)]\n",
    "print('x的shape', x)\n",
    "print(x1)\n",
    "print(ups)\n",
    "out = (torch.cat(ups,  dim=1)) # 在第一维合并\n",
    "print(\"out.shape\", out.shape)\n",
    "print(out)\n"
   ],
   "outputs": [
    {
     "output_type": "stream",
     "name": "stdout",
     "text": [
      "x的shape tensor([[[[1., 1., 1., 1.],\n",
      "          [1., 1., 1., 1.]]]])\n",
      "tensor([[[[2., 2., 2., 2.],\n",
      "          [2., 2., 2., 2.]]]])\n",
      "[tensor([[[[1., 1., 1., 1.],\n",
      "          [1., 1., 1., 1.]]]]), tensor([[[[2., 2., 2., 2.],\n",
      "          [2., 2., 2., 2.]]]])]\n",
      "out.shape torch.Size([1, 2, 2, 4])\n",
      "tensor([[[[1., 1., 1., 1.],\n",
      "          [1., 1., 1., 1.]],\n",
      "\n",
      "         [[2., 2., 2., 2.],\n",
      "          [2., 2., 2., 2.]]]])\n"
     ]
    }
   ],
   "metadata": {}
  },
  {
   "cell_type": "code",
   "execution_count": 10,
   "source": [
    "import torch\n",
    "\n",
    "feature = torch.tensor([[3,4,5],[6,8,4]], dtype=torch.float)\n",
    "print(feature)\n",
    "list1 = [feature]\n",
    "feature1 = feature[:,0].type_as(feature).view(-1, 1) # ！！！！注意列表中的tensor的维度必须一致\n",
    "list1.append(feature1)\n",
    "print(list1)\n",
    "print(torch.cat(list1, dim=-1))\n"
   ],
   "outputs": [
    {
     "output_type": "stream",
     "name": "stdout",
     "text": [
      "tensor([[3., 4., 5.],\n",
      "        [6., 8., 4.]])\n",
      "[tensor([[3., 4., 5.],\n",
      "        [6., 8., 4.]]), tensor([[3.],\n",
      "        [6.]])]\n",
      "tensor([[3., 4., 5., 3.],\n",
      "        [6., 8., 4., 6.]])\n"
     ]
    }
   ],
   "metadata": {}
  },
  {
   "cell_type": "code",
   "execution_count": null,
   "source": [],
   "outputs": [],
   "metadata": {}
  }
 ],
 "metadata": {
  "orig_nbformat": 4,
  "language_info": {
   "name": "python",
   "version": "3.6.12",
   "mimetype": "text/x-python",
   "codemirror_mode": {
    "name": "ipython",
    "version": 3
   },
   "pygments_lexer": "ipython3",
   "nbconvert_exporter": "python",
   "file_extension": ".py"
  },
  "kernelspec": {
   "name": "python3",
   "display_name": "Python 3.6.12 64-bit ('torch': conda)"
  },
  "interpreter": {
   "hash": "33889632b9843cd8adbd3566ea201a4089a307e6b2cea65a3733113e94cf9c17"
  }
 },
 "nbformat": 4,
 "nbformat_minor": 2
}