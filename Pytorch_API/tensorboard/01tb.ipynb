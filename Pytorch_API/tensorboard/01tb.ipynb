{
 "cells": [
  {
   "cell_type": "markdown",
   "source": [
    "参考资料： https://www.cnblogs.com/BlueBlueSea/p/14617515.html\n",
    "```\n",
    "tensorboard --logdir=\"./tensorboard_tb\" \n",
    "```\n",
    "\n",
    "## 1.写到一个类别下\n",
    "\n"
   ],
   "metadata": {}
  },
  {
   "cell_type": "code",
   "execution_count": 5,
   "source": [
    "from torch.utils.tensorboard import SummaryWriter\n",
    "import numpy as np\n",
    "np.random.seed(20200910)\n",
    "writer = SummaryWriter(\"tensorboard_tb\") # 保存路径名\n",
    "for n_iter in range(100):\n",
    "    writer.add_scalar('Loss/train', np.random.random(), n_iter)\n",
    "    writer.add_scalar('Loss/test', np.random.random(), n_iter)\n",
    "    writer.add_scalar('Accuracy/train', np.random.random(), n_iter)\n",
    "    writer.add_scalar('Accuracy/test', np.random.random(), n_iter)"
   ],
   "outputs": [],
   "metadata": {}
  },
  {
   "cell_type": "markdown",
   "source": [
    "# sh运行\n",
    "## SyntaxError: can't assign to operator 变量名里面不能出现“=”，“+”这些符号3\n",
    "sh tensorboard --logdir = \"./runs\""
   ],
   "metadata": {}
  },
  {
   "cell_type": "markdown",
   "source": [
    "## 2.在同一个图中添加多个变量\n",
    "https://blog.csdn.net/sdnuwjw/article/details/107305358"
   ],
   "metadata": {}
  },
  {
   "cell_type": "code",
   "execution_count": 3,
   "source": [
    "import numpy as np\n",
    "from torch.utils.tensorboard import SummaryWriter  # 也可以使用 tensorboardX\n",
    "# from tensorboardX import SummaryWriter  # 也可以使用 pytorch 集成的 tensorboard\n",
    "\n",
    "writer = SummaryWriter()\n",
    "for epoch in range(100):\n",
    "    writer.add_scalar('add_scalar/squared', np.square(epoch), epoch)\n",
    "    writer.add_scalars(\"add_scalars/trigonometric\", \n",
    "{'xsinx': epoch * np.sin(epoch/5), 'xcosx': epoch* np.cos(epoch/5), 'xtanx': np.tan(epoch/5)}, epoch)\n",
    "\n",
    "writer.close()"
   ],
   "outputs": [],
   "metadata": {}
  },
  {
   "cell_type": "code",
   "execution_count": null,
   "source": [],
   "outputs": [],
   "metadata": {}
  }
 ],
 "metadata": {
  "orig_nbformat": 4,
  "language_info": {
   "name": "python",
   "version": "3.6.12",
   "mimetype": "text/x-python",
   "codemirror_mode": {
    "name": "ipython",
    "version": 3
   },
   "pygments_lexer": "ipython3",
   "nbconvert_exporter": "python",
   "file_extension": ".py"
  },
  "kernelspec": {
   "name": "python3",
   "display_name": "Python 3.6.12 64-bit ('torch': conda)"
  },
  "interpreter": {
   "hash": "33889632b9843cd8adbd3566ea201a4089a307e6b2cea65a3733113e94cf9c17"
  }
 },
 "nbformat": 4,
 "nbformat_minor": 2
}