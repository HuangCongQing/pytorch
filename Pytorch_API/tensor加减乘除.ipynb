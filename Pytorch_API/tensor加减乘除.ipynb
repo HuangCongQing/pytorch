{
 "cells": [
  {
   "cell_type": "markdown",
   "metadata": {},
   "source": [
    "## torch.max() torch.sum() torch.norm()"
   ]
  },
  {
   "cell_type": "markdown",
   "metadata": {},
   "source": [
    "## torch.max() min()\n",
    "* 方法1：得到某一维度\n",
    "* 方法2：最大最小值是数组形式!!"
   ]
  },
  {
   "cell_type": "code",
   "execution_count": null,
   "metadata": {},
   "outputs": [],
   "source": [
    "import torch\n",
    "\n",
    "x = torch.rand(4,4)\n",
    "print('x:\\n',x)\n",
    "#  tensor([[0.3736, 0.4062, 0.4501, 0.4946],\n",
    "#         [0.9313, 0.8332, 0.9322, 0.0988],\n",
    "#         [0.3764, 0.3940, 0.8055, 0.2494],\n",
    "#         [0.2100, 0.3560, 0.7563, 0.5658]])\n",
    "print('torch.max(x,1):\\n',torch.max(x,1))\n",
    "print('torch.max(x,0):\\n',torch.max(x,0))\n",
    "print('torch.max(x,1)[0]:\\n',torch.max(x,1)[0])\n",
    "print('torch.max(x,1)[1]:\\n',torch.max(x,1)[1])\n",
    "print('torch.max(x,1)[1].data:\\n',torch.max(x,1)[1].data)\n",
    "print('torch.max(x,1)[1].data.numpy():\\n',torch.max(x,1)[1].data.numpy())\n",
    "print('torch.max(x,1)[1].data.numpy().squeeze():\\n',torch.max(x,1)[1].data.numpy().squeeze())\n",
    "print('torch.max(x,1)[0].data:\\n',torch.max(x,1)[0].data)\n",
    "print('torch.max(x,1)[0].data.numpy():\\n',torch.max(x,1)[0].data.numpy())\n",
    "print('torch.max(x,1)[0].data.numpy().squeeze():\\n',torch.max(x,1)[0].data.numpy().squeeze())"
   ]
  },
  {
   "cell_type": "code",
   "execution_count": 4,
   "metadata": {},
   "outputs": [
    {
     "name": "stdout",
     "output_type": "stream",
     "text": [
      "tensor([[[-3.0000, -1.4586,  0.0958, -0.6362, -0.6159],\n",
      "         [ 5.0000, -0.7695,  0.2358, -1.3664,  0.3769],\n",
      "         [-2.0000, -2.0000,  0.4958, -0.7217, -0.6755]]], device='cuda:0')\n",
      "tensor([[[-3.0000, -1.4586,  0.0958, -0.6362, -0.6159],\n",
      "         [ 3.0000, -0.7695,  0.2358, -1.3664,  0.3769],\n",
      "         [-2.0000, -2.0000,  0.4958, -0.7217, -0.6755]]], device='cuda:0')\n"
     ]
    }
   ],
   "source": [
    "## 方法2：最大最小值是数组形式\n",
    "vote_offsets = torch.tensor([[[-5.0, -1.4586e+00,  9.5761e-02, -6.3620e-01, -6.1594e-01],\n",
    "                    [5., -7.6953e-01,  2.3583e-01, -1.3664e+00,  3.7694e-01],\n",
    "                    [-2., -2.0000e+00,  4.9579e-01, -7.2171e-01, -6.7554e-01],]]).cuda() # # torch.Size([1, 3, 5])\n",
    "vote_translation_range = torch.tensor([[[3.],\n",
    "                                        [3.],\n",
    "                                        [2.]]]).cuda() # torch.Size([1, 3, 1])\n",
    "vote_offsets = torch.max(vote_offsets, -vote_translation_range) # 最小-vote_translation_range\n",
    "print(vote_offsets)\n",
    "vote_offsets = torch.min(vote_offsets, vote_translation_range) # 最大 vote_translation_range\n",
    "print(vote_offsets)"
   ]
  },
  {
   "cell_type": "markdown",
   "metadata": {},
   "source": []
  },
  {
   "cell_type": "code",
   "execution_count": null,
   "metadata": {},
   "outputs": [],
   "source": []
  },
  {
   "cell_type": "code",
   "execution_count": null,
   "metadata": {},
   "outputs": [],
   "source": []
  }
 ],
 "metadata": {
  "kernelspec": {
   "display_name": "Python 3.8.13 ('pcdet')",
   "language": "python",
   "name": "python3"
  },
  "language_info": {
   "codemirror_mode": {
    "name": "ipython",
    "version": 3
   },
   "file_extension": ".py",
   "mimetype": "text/x-python",
   "name": "python",
   "nbconvert_exporter": "python",
   "pygments_lexer": "ipython3",
   "version": "3.8.13"
  },
  "orig_nbformat": 4,
  "vscode": {
   "interpreter": {
    "hash": "4a4bb52955cb4b7ba3167560f52fbe8257746766a280283c0daccbe36f0c9125"
   }
  }
 },
 "nbformat": 4,
 "nbformat_minor": 2
}
