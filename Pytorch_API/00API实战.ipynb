{
 "cells": [
  {
   "cell_type": "markdown",
   "metadata": {
    "pycharm": {
     "name": "#%% md\n"
    }
   },
   "source": [
    "## 计算两维的xy的平方根得到一维\n",
    "*  `feature1 =  torch.sqrt( c[:, 0]**2 +  c[:,1]**2) # 两维的平方根`"
   ]
  },
  {
   "cell_type": "code",
   "execution_count": 10,
   "metadata": {
    "pycharm": {
     "name": "#%%\n"
    }
   },
   "outputs": [
    {
     "name": "stdout",
     "output_type": "stream",
     "text": [
      "tensor([[3., 4., 5.],\n",
      "        [6., 8., 4.]])\n"
     ]
    }
   ],
   "source": [
    "import torch\n",
    "\n",
    "c = torch.tensor([[3,4,5],[6,8,4]], dtype=torch.float)\n",
    "print(c)"
   ]
  },
  {
   "cell_type": "code",
   "execution_count": 11,
   "metadata": {
    "pycharm": {
     "name": "#%%\n"
    }
   },
   "outputs": [
    {
     "name": "stdout",
     "output_type": "stream",
     "text": [
      "tensor([[ 5.],\n",
      "        [10.]])\n",
      "\n"
     ]
    }
   ],
   "source": [
    "feature1 =  torch.sqrt( c[:, 0]**2 +  c[:,1]**2) # 两维的平方根\n",
    "# feature1 =  c[:, 0] + c[:,1]\n",
    "feature1 = feature1.type_as(c).view(-1, 1) # 维度要一致 (3, 1)\n",
    "print(feature1)\n",
    "print()"
   ]
  },
  {
   "cell_type": "code",
   "execution_count": 12,
   "metadata": {
    "pycharm": {
     "name": "#%%\n"
    }
   },
   "outputs": [
    {
     "name": "stdout",
     "output_type": "stream",
     "text": [
      "tensor([[ 5.,  5.],\n",
      "        [10.,  4.]])\n"
     ]
    }
   ],
   "source": [
    "# c[:, 1] = feature1.squeeze()\n",
    "c[:, 1] = torch.sqrt( c[:, 0]**2 +  c[:,1]**2) # 两维的平方根\n",
    "print(c[:, 1:])"
   ]
  },
  {
   "cell_type": "code",
   "execution_count": 13,
   "metadata": {
    "pycharm": {
     "name": "#%%\n"
    }
   },
   "outputs": [
    {
     "name": "stdout",
     "output_type": "stream",
     "text": [
      "[tensor([[ 3.,  5.,  5.],\n",
      "        [ 6., 10.,  4.]]), tensor([[ 5.],\n",
      "        [10.]])]\n",
      "tensor([[ 3.,  5.,  5.,  5.],\n",
      "        [ 6., 10.,  4., 10.]])\n"
     ]
    }
   ],
   "source": [
    "feature = [c]\n",
    "feature.append(feature1)\n",
    "print(feature) # 列表\n",
    "feature = torch.cat(feature, dim=1) #  最后一维合并Combine together feature decorations\n",
    "print(feature)"
   ]
  },
  {
   "cell_type": "markdown",
   "metadata": {},
   "source": [
    "## torch.randint_like(sample_, low=0, high=num_sample)\n",
    "https://pytorch.org/docs/stable/generated/torch.randint_like.html\n"
   ]
  },
  {
   "cell_type": "code",
   "execution_count": 14,
   "metadata": {
    "pycharm": {
     "name": "#%%\n"
    }
   },
   "outputs": [
    {
     "name": "stdout",
     "output_type": "stream",
     "text": [
      "tensor([ 0,  1,  2,  3,  4,  5,  6,  7,  8,  9, 10, 11])\n",
      "sample_:  tensor([0, 0, 0, 0, 0, 0])\n",
      "extra_idx:  tensor([1, 0, 4, 2, 4, 0])\n",
      "tensor([1, 0, 4, 2, 4, 0])\n",
      "tensor([[0.7889, 0.4091, 0.5140, 0.4285],\n",
      "        [0.3778, 0.9903, 0.2365, 0.2286],\n",
      "        [0.9092, 0.6876, 0.2738, 0.4460],\n",
      "        [0.4123, 0.0090, 0.7043, 0.3341],\n",
      "        [0.9092, 0.6876, 0.2738, 0.4460],\n",
      "        [0.3778, 0.9903, 0.2365, 0.2286]])\n"
     ]
    }
   ],
   "source": [
    "# lmv/core/modules/ops/samples.py\n",
    "import torch\n",
    "xyz = torch.rand(12,4)\n",
    "# print(xyz)\n",
    "num_sample = 6\n",
    "valid_sample_ids = torch.arange(12)\n",
    "print(valid_sample_ids)\n",
    "# 只要6个\n",
    "sample_ = xyz.new_zeros(num_sample).long() # 方便的复制原来tensor的所有类型，比如数据类型和数据所在设备等等\n",
    "print(\"sample_: \", sample_)\n",
    "extra_idx = torch.randint_like(sample_, low=0, high=num_sample) # input填充了在low（包括）和 high（不包括）之间均匀生成的随机整数。====================\n",
    "print(\"extra_idx: \", extra_idx)\n",
    "sample_ids = valid_sample_ids[extra_idx]\n",
    "print(sample_ids)\n",
    "print(xyz[sample_ids,:])"
   ]
  },
  {
   "cell_type": "code",
   "execution_count": null,
   "metadata": {},
   "outputs": [],
   "source": []
  }
 ],
 "metadata": {
  "kernelspec": {
   "display_name": "Python 3.8.13 ('waymo_38')",
   "language": "python",
   "name": "python3"
  },
  "language_info": {
   "codemirror_mode": {
    "name": "ipython",
    "version": 3
   },
   "file_extension": ".py",
   "mimetype": "text/x-python",
   "name": "python",
   "nbconvert_exporter": "python",
   "pygments_lexer": "ipython3",
   "version": "3.8.13"
  },
  "orig_nbformat": 4,
  "vscode": {
   "interpreter": {
    "hash": "44c80fdca727e273b3b1fdcfb86e5664b0451e88fa74e3d1ad2cb050c7994d10"
   }
  }
 },
 "nbformat": 4,
 "nbformat_minor": 2
}
