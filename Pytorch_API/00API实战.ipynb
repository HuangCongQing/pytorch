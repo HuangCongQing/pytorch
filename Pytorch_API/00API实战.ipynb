{
 "cells": [
  {
   "cell_type": "markdown",
   "source": [
    "# 计算两维的xy的平方根得到一维\n",
    "*  `feature1 =  torch.sqrt( c[:, 0]**2 +  c[:,1]**2) # 两维的平方根`"
   ],
   "metadata": {
    "pycharm": {
     "name": "#%% md\n"
    }
   }
  },
  {
   "cell_type": "code",
   "execution_count": 10,
   "source": [
    "import torch\n",
    "\n",
    "c = torch.tensor([[3,4,5],[6,8,4]], dtype=torch.float)\n",
    "print(c)"
   ],
   "outputs": [
    {
     "output_type": "stream",
     "name": "stdout",
     "text": [
      "tensor([[3., 4., 5.],\n",
      "        [6., 8., 4.]])\n"
     ]
    }
   ],
   "metadata": {
    "pycharm": {
     "name": "#%%\n"
    }
   }
  },
  {
   "cell_type": "code",
   "execution_count": 11,
   "source": [
    "feature1 =  torch.sqrt( c[:, 0]**2 +  c[:,1]**2) # 两维的平方根\n",
    "# feature1 =  c[:, 0] + c[:,1]\n",
    "feature1 = feature1.type_as(c).view(-1, 1) # 维度要一致 (3, 1)\n",
    "print(feature1)\n",
    "print()"
   ],
   "outputs": [
    {
     "output_type": "stream",
     "name": "stdout",
     "text": [
      "tensor([[ 5.],\n",
      "        [10.]])\n",
      "\n"
     ]
    }
   ],
   "metadata": {
    "pycharm": {
     "name": "#%%\n"
    }
   }
  },
  {
   "cell_type": "code",
   "execution_count": 12,
   "source": [
    "# c[:, 1] = feature1.squeeze()\n",
    "c[:, 1] = torch.sqrt( c[:, 0]**2 +  c[:,1]**2) # 两维的平方根\n",
    "print(c[:, 1:])"
   ],
   "outputs": [
    {
     "output_type": "stream",
     "name": "stdout",
     "text": [
      "tensor([[ 5.,  5.],\n",
      "        [10.,  4.]])\n"
     ]
    }
   ],
   "metadata": {
    "pycharm": {
     "name": "#%%\n"
    }
   }
  },
  {
   "cell_type": "code",
   "execution_count": 13,
   "source": [
    "feature = [c]\n",
    "feature.append(feature1)\n",
    "print(feature) # 列表\n",
    "feature = torch.cat(feature, dim=1) #  最后一维合并Combine together feature decorations\n",
    "print(feature)"
   ],
   "outputs": [
    {
     "output_type": "stream",
     "name": "stdout",
     "text": [
      "[tensor([[ 3.,  5.,  5.],\n",
      "        [ 6., 10.,  4.]]), tensor([[ 5.],\n",
      "        [10.]])]\n",
      "tensor([[ 3.,  5.,  5.,  5.],\n",
      "        [ 6., 10.,  4., 10.]])\n"
     ]
    }
   ],
   "metadata": {
    "pycharm": {
     "name": "#%%\n"
    }
   }
  },
  {
   "cell_type": "code",
   "execution_count": null,
   "source": [],
   "outputs": [],
   "metadata": {
    "pycharm": {
     "name": "#%%\n"
    }
   }
  }
 ],
 "metadata": {
  "orig_nbformat": 4,
  "language_info": {
   "name": "python",
   "version": "3.6.12",
   "mimetype": "text/x-python",
   "codemirror_mode": {
    "name": "ipython",
    "version": 3
   },
   "pygments_lexer": "ipython3",
   "nbconvert_exporter": "python",
   "file_extension": ".py"
  },
  "kernelspec": {
   "name": "python3",
   "display_name": "Python 3.6.12 64-bit ('torch': conda)"
  },
  "interpreter": {
   "hash": "33889632b9843cd8adbd3566ea201a4089a307e6b2cea65a3733113e94cf9c17"
  }
 },
 "nbformat": 4,
 "nbformat_minor": 2
}