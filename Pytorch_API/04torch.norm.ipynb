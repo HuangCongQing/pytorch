{
 "cells": [
  {
   "cell_type": "markdown",
   "source": [
    "# \n",
    "https://www.cnblogs.com/wanghui-garcia/p/11266298.html\n",
    "\n",
    "https://zhuanlan.zhihu.com/p/260162240\n",
    "\n",
    "\n",
    "```\n",
    "torch.norm(input, p='fro', dim=None, keepdim=False, out=None, dtype=None)\n",
    "```\n",
    "input：输入tensor\n",
    "p (int, float, inf, -inf, 'fro', 'nuc', optional)：范数计算中的幂指数值。默认为'fro'\n",
    "\n",
    "\n",
    "dim (int，2-tuple，2-list， optional): 指定计算的维度。如果是一个整数值，向量范数将被计算；如果是一个大小为2的元组，矩阵范数将被计算；如果为None，当输入tensor只有两维时矩阵计算矩阵范数；当输入只有一维时则计算向量范数。如果输入tensor超过2维，向量范数将被应用在最后一维\n",
    "keepdim（bool，optional）：指明输出tensor的维度dim是否保留。如果dim=None或out=None,则忽略该参数。默认值为False，不保留\n",
    "out（Tensor, optional）:tensor的输出。如果dim=None或out=None,则忽略该参数。\n",
    "dtype（torch.dtype，optional）：指定返回tensor的期望数据类型。如果指定了该参数，在执行该操作时输入tensor将被转换成 :attr:’dtype’\n"
   ],
   "metadata": {}
  },
  {
   "cell_type": "code",
   "execution_count": 5,
   "source": [
    "import torch\n",
    "\n",
    "c = torch.tensor([[1,2,3],[-1,1,4]], dtype=torch.float)\n",
    "print(c)\n",
    "print(torch.norm(c, dim=0))"
   ],
   "outputs": [
    {
     "output_type": "stream",
     "name": "stdout",
     "text": [
      "tensor([[ 1.,  2.,  3.],\n",
      "        [-1.,  1.,  4.]])\n",
      "tensor([1.4142, 2.2361, 5.0000])\n"
     ]
    }
   ],
   "metadata": {}
  },
  {
   "cell_type": "code",
   "execution_count": 12,
   "source": [
    "torch.norm(c, dim=0)# 指定dim = 0，因为c的size() = (2,3),所以会去掉其dim=0，得到size()=(3)的结果，所以是纵向求值，计算Frobenius范数\n",
    "# torch.norm(c, dim=0).size()  # torch.Size([3])"
   ],
   "outputs": [
    {
     "output_type": "execute_result",
     "data": {
      "text/plain": [
       "tensor([1.4142, 2.2361, 5.0000])"
      ]
     },
     "metadata": {},
     "execution_count": 12
    }
   ],
   "metadata": {}
  },
  {
   "cell_type": "code",
   "execution_count": 3,
   "source": [
    "torch.norm(c, dim=1)"
   ],
   "outputs": [
    {
     "output_type": "execute_result",
     "data": {
      "text/plain": [
       "tensor([3.7417, 4.2426])"
      ]
     },
     "metadata": {},
     "execution_count": 3
    }
   ],
   "metadata": {}
  },
  {
   "cell_type": "code",
   "execution_count": 4,
   "source": [
    "torch.norm(c, p=1, dim=1) # p=1, dim=1 ： 即是表示去掉维度1，使用1-范数，得到size()=(2)的结果。所以横向计算各个元素绝对值的和，为（[6,6]）"
   ],
   "outputs": [
    {
     "output_type": "execute_result",
     "data": {
      "text/plain": [
       "tensor([6., 6.])"
      ]
     },
     "metadata": {},
     "execution_count": 4
    }
   ],
   "metadata": {}
  },
  {
   "cell_type": "code",
   "execution_count": null,
   "source": [],
   "outputs": [],
   "metadata": {}
  }
 ],
 "metadata": {
  "orig_nbformat": 4,
  "language_info": {
   "name": "python",
   "version": "3.6.12",
   "mimetype": "text/x-python",
   "codemirror_mode": {
    "name": "ipython",
    "version": 3
   },
   "pygments_lexer": "ipython3",
   "nbconvert_exporter": "python",
   "file_extension": ".py"
  },
  "kernelspec": {
   "name": "python3",
   "display_name": "Python 3.6.12 64-bit ('torch': conda)"
  },
  "interpreter": {
   "hash": "33889632b9843cd8adbd3566ea201a4089a307e6b2cea65a3733113e94cf9c17"
  }
 },
 "nbformat": 4,
 "nbformat_minor": 2
}