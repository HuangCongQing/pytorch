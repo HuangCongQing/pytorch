{
 "cells": [
  {
   "cell_type": "markdown",
   "metadata": {},
   "source": [
    "# torch查看模型结构、参数量、各层输入输出矩阵大小\n",
    "\n",
    "https://blog.csdn.net/weixin_38950873/article/details/125591487?\n",
    "https://zhouchen.blog.csdn.net/article/details/109292581?"
   ]
  },
  {
   "cell_type": "code",
   "execution_count": 10,
   "metadata": {},
   "outputs": [
    {
     "name": "stdout",
     "output_type": "stream",
     "text": [
      "Requirement already satisfied: torchsummary in /home/chongqinghuang/anaconda3/envs/pcdet/lib/python3.8/site-packages (1.5.1)\n"
     ]
    }
   ],
   "source": [
    "import torch\n",
    "import torchvision\n",
    "!pip install torchsummary\n",
    "import torchsummary"
   ]
  },
  {
   "cell_type": "code",
   "execution_count": null,
   "metadata": {},
   "outputs": [],
   "source": [
    "net = torchvision.models.vgg19()\n",
    "# 查看网络结构\n",
    "print(net)\n"
   ]
  },
  {
   "cell_type": "code",
   "execution_count": 15,
   "metadata": {},
   "outputs": [
    {
     "name": "stdout",
     "output_type": "stream",
     "text": [
      "----------------------------------------------------------------\n",
      "        Layer (type)               Output Shape         Param #\n",
      "================================================================\n",
      "            Conv2d-1          [2, 64, 128, 128]           9,408\n",
      "       BatchNorm2d-2          [2, 64, 128, 128]             128\n",
      "              ReLU-3          [2, 64, 128, 128]               0\n",
      "         MaxPool2d-4            [2, 64, 64, 64]               0\n",
      "            Conv2d-5            [2, 64, 64, 64]          36,864\n",
      "       BatchNorm2d-6            [2, 64, 64, 64]             128\n",
      "              ReLU-7            [2, 64, 64, 64]               0\n",
      "            Conv2d-8            [2, 64, 64, 64]          36,864\n",
      "       BatchNorm2d-9            [2, 64, 64, 64]             128\n",
      "             ReLU-10            [2, 64, 64, 64]               0\n",
      "       BasicBlock-11            [2, 64, 64, 64]               0\n",
      "           Conv2d-12            [2, 64, 64, 64]          36,864\n",
      "      BatchNorm2d-13            [2, 64, 64, 64]             128\n",
      "             ReLU-14            [2, 64, 64, 64]               0\n",
      "           Conv2d-15            [2, 64, 64, 64]          36,864\n",
      "      BatchNorm2d-16            [2, 64, 64, 64]             128\n",
      "             ReLU-17            [2, 64, 64, 64]               0\n",
      "       BasicBlock-18            [2, 64, 64, 64]               0\n",
      "           Conv2d-19           [2, 128, 32, 32]          73,728\n",
      "      BatchNorm2d-20           [2, 128, 32, 32]             256\n",
      "             ReLU-21           [2, 128, 32, 32]               0\n",
      "           Conv2d-22           [2, 128, 32, 32]         147,456\n",
      "      BatchNorm2d-23           [2, 128, 32, 32]             256\n",
      "           Conv2d-24           [2, 128, 32, 32]           8,192\n",
      "      BatchNorm2d-25           [2, 128, 32, 32]             256\n",
      "             ReLU-26           [2, 128, 32, 32]               0\n",
      "       BasicBlock-27           [2, 128, 32, 32]               0\n",
      "           Conv2d-28           [2, 128, 32, 32]         147,456\n",
      "      BatchNorm2d-29           [2, 128, 32, 32]             256\n",
      "             ReLU-30           [2, 128, 32, 32]               0\n",
      "           Conv2d-31           [2, 128, 32, 32]         147,456\n",
      "      BatchNorm2d-32           [2, 128, 32, 32]             256\n",
      "             ReLU-33           [2, 128, 32, 32]               0\n",
      "       BasicBlock-34           [2, 128, 32, 32]               0\n",
      "           Conv2d-35           [2, 256, 16, 16]         294,912\n",
      "      BatchNorm2d-36           [2, 256, 16, 16]             512\n",
      "             ReLU-37           [2, 256, 16, 16]               0\n",
      "           Conv2d-38           [2, 256, 16, 16]         589,824\n",
      "      BatchNorm2d-39           [2, 256, 16, 16]             512\n",
      "           Conv2d-40           [2, 256, 16, 16]          32,768\n",
      "      BatchNorm2d-41           [2, 256, 16, 16]             512\n",
      "             ReLU-42           [2, 256, 16, 16]               0\n",
      "       BasicBlock-43           [2, 256, 16, 16]               0\n",
      "           Conv2d-44           [2, 256, 16, 16]         589,824\n",
      "      BatchNorm2d-45           [2, 256, 16, 16]             512\n",
      "             ReLU-46           [2, 256, 16, 16]               0\n",
      "           Conv2d-47           [2, 256, 16, 16]         589,824\n",
      "      BatchNorm2d-48           [2, 256, 16, 16]             512\n",
      "             ReLU-49           [2, 256, 16, 16]               0\n",
      "       BasicBlock-50           [2, 256, 16, 16]               0\n",
      "           Conv2d-51             [2, 512, 8, 8]       1,179,648\n",
      "      BatchNorm2d-52             [2, 512, 8, 8]           1,024\n",
      "             ReLU-53             [2, 512, 8, 8]               0\n",
      "           Conv2d-54             [2, 512, 8, 8]       2,359,296\n",
      "      BatchNorm2d-55             [2, 512, 8, 8]           1,024\n",
      "           Conv2d-56             [2, 512, 8, 8]         131,072\n",
      "      BatchNorm2d-57             [2, 512, 8, 8]           1,024\n",
      "             ReLU-58             [2, 512, 8, 8]               0\n",
      "       BasicBlock-59             [2, 512, 8, 8]               0\n",
      "           Conv2d-60             [2, 512, 8, 8]       2,359,296\n",
      "      BatchNorm2d-61             [2, 512, 8, 8]           1,024\n",
      "             ReLU-62             [2, 512, 8, 8]               0\n",
      "           Conv2d-63             [2, 512, 8, 8]       2,359,296\n",
      "      BatchNorm2d-64             [2, 512, 8, 8]           1,024\n",
      "             ReLU-65             [2, 512, 8, 8]               0\n",
      "       BasicBlock-66             [2, 512, 8, 8]               0\n",
      "AdaptiveAvgPool2d-67             [2, 512, 1, 1]               0\n",
      "           Linear-68                  [2, 1000]         513,000\n",
      "================================================================\n",
      "Total params: 11,689,512\n",
      "Trainable params: 11,689,512\n",
      "Non-trainable params: 0\n",
      "----------------------------------------------------------------\n",
      "Input size (MB): 1.50\n",
      "Forward/backward pass size (MB): 164.02\n",
      "Params size (MB): 44.59\n",
      "Estimated Total Size (MB): 210.12\n",
      "----------------------------------------------------------------\n"
     ]
    }
   ],
   "source": [
    "#  参数量、各层输入输出矩阵大小\n",
    "# input = torch.randn(12, 3, 256, 278)\n",
    "\n",
    "\n",
    "# torchsummary.summary(model=net,input_size=(3,224,224),device='cuda')\n",
    "# 查看模型信息\n",
    "# model:模型\n",
    "# input_size:模型输入size\n",
    "# batch_size\n",
    "# device:'cuda'或'cpu'\n",
    "# torchsummary(model,input_size,batch_size=-1,device='cuda')\n",
    "\n",
    "from torchvision.models import resnet18\n",
    "\n",
    "model = resnet18()\n",
    "summary(model, input_size=[(3, 256, 256)], batch_size=2, device=\"cpu\")\n",
    "\n",
    "# 原文链接：https://blog.csdn.net/weixin_42990464/article/details/107732034"
   ]
  },
  {
   "cell_type": "code",
   "execution_count": 8,
   "metadata": {},
   "outputs": [
    {
     "name": "stdout",
     "output_type": "stream",
     "text": [
      "----------------------------------------------------------------\n",
      "        Layer (type)               Output Shape         Param #\n",
      "================================================================\n",
      "            Conv2d-1            [-1, 1, 16, 16]              10\n",
      "              ReLU-2            [-1, 1, 16, 16]               0\n",
      "            Conv2d-3            [-1, 1, 28, 28]              10\n",
      "              ReLU-4            [-1, 1, 28, 28]               0\n",
      "================================================================\n",
      "Total params: 20\n",
      "Trainable params: 20\n",
      "Non-trainable params: 0\n",
      "----------------------------------------------------------------\n",
      "Input size (MB): 0.77\n",
      "Forward/backward pass size (MB): 0.02\n",
      "Params size (MB): 0.00\n",
      "Estimated Total Size (MB): 0.78\n",
      "----------------------------------------------------------------\n"
     ]
    }
   ],
   "source": [
    "import torch\n",
    "import torch.nn as nn\n",
    "from torchsummary import summary\n",
    "\n",
    "\n",
    "class SimpleConv(nn.Module):\n",
    "    def __init__(self):\n",
    "        super(SimpleConv, self).__init__()\n",
    "        self.features = nn.Sequential(\n",
    "            nn.Conv2d(1, 1, kernel_size=3, stride=1, padding=1),\n",
    "            nn.ReLU(),\n",
    "        )\n",
    "\n",
    "    def forward(self, x, y):\n",
    "        x1 = self.features(x)\n",
    "        x2 = self.features(y)\n",
    "        return x1, x2\n",
    "\n",
    "\n",
    "device = torch.device(\"cuda\" if torch.cuda.is_available() else \"cpu\")\n",
    "model = SimpleConv().to(device)\n",
    "\n",
    "summary(model, input_size=[(1, 16, 16), (1, 28, 28)])\n"
   ]
  },
  {
   "cell_type": "code",
   "execution_count": null,
   "metadata": {},
   "outputs": [],
   "source": []
  }
 ],
 "metadata": {
  "kernelspec": {
   "display_name": "Python 3.8.13 ('pcdet')",
   "language": "python",
   "name": "python3"
  },
  "language_info": {
   "codemirror_mode": {
    "name": "ipython",
    "version": 3
   },
   "file_extension": ".py",
   "mimetype": "text/x-python",
   "name": "python",
   "nbconvert_exporter": "python",
   "pygments_lexer": "ipython3",
   "version": "3.8.13"
  },
  "orig_nbformat": 4,
  "vscode": {
   "interpreter": {
    "hash": "4a4bb52955cb4b7ba3167560f52fbe8257746766a280283c0daccbe36f0c9125"
   }
  }
 },
 "nbformat": 4,
 "nbformat_minor": 2
}
