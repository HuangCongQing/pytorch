{
 "cells": [
  {
   "cell_type": "markdown",
   "metadata": {
    "collapsed": false,
    "pycharm": {
     "name": "#%% md\n"
    }
   },
   "source": [
    "\n",
    "\n",
    "# tensorboard\n",
    "\n",
    "\n",
    "\n",
    "```\n",
    "tensorboard --logdir=\"../logs/tensorboard_tb\" \n",
    "```\n",
    "\n",
    "![](https://cdn.nlark.com/yuque/0/2022/png/232596/1653382251294-322eaea2-91ee-4244-a215-7a1995626ba1.png?x-oss-process=image%2Fresize%2Cw_1469%2Climit_0)"
   ]
  },
  {
   "cell_type": "markdown",
   "metadata": {
    "collapsed": false,
    "pycharm": {
     "name": "#%% md\n"
    }
   },
   "source": [
    "## 1 writer.add_scalar('Loss/train', np.random.random(), i) 【常用来绘制train/val loss】\n"
   ]
  },
  {
   "cell_type": "code",
   "execution_count": null,
   "metadata": {
    "collapsed": false,
    "pycharm": {
     "name": "#%%\n"
    }
   },
   "outputs": [],
   "source": [
    "from torch.utils.tensorboard import SummaryWriter\n",
    "\n",
    "# 按住ctrl. 鼠标点击查看源码\n",
    "writer = SummaryWriter(\"../logs/tb_test\")\n",
    "# writer.add_scalar() # 标量（数）\n",
    "# writer.add_image() # 图像\n",
    "\n",
    "for i in range(100):\n",
    "    writer.add_scalar(\"y=x\", i, i)\n"
   ]
  },
  {
   "cell_type": "code",
   "execution_count": null,
   "metadata": {
    "collapsed": false,
    "pycharm": {
     "name": "#%%\n"
    }
   },
   "outputs": [],
   "source": [
    "from torch.utils.tensorboard import SummaryWriter\n",
    "\n",
    "# 按住ctrl. 鼠标点击查看源码\n",
    "writer = SummaryWriter(\"../logs/tb_test\")\n",
    "# writer.add_scalar() # 标量（数）\n",
    "# writer.add_image() # 图像\n",
    "\n",
    "for i in range(100):\n",
    "    writer.add_scalar(\"y=x\", i, i)\n"
   ]
  },
  {
   "cell_type": "code",
   "execution_count": null,
   "metadata": {
    "collapsed": false,
    "pycharm": {
     "name": "#%%\n"
    }
   },
   "outputs": [],
   "source": [
    "from torch.utils.tensorboard import SummaryWriter\n",
    "\n",
    "# 按住ctrl. 鼠标点击查看源码\n",
    "writer = SummaryWriter(\"../logs/tb_test\")\n",
    "# writer.add_scalar() # 标量（数）\n",
    "# writer.add_image() # 图像\n",
    "\n",
    "for i in range(100):\n",
    "    writer.add_scalar(\"y=x\", i, i)\n"
   ]
  },
  {
   "cell_type": "code",
   "execution_count": null,
   "metadata": {
    "collapsed": false,
    "pycharm": {
     "name": "#%%\n"
    }
   },
   "outputs": [],
   "source": [
    "from torch.utils.tensorboard import SummaryWriter\n",
    "import numpy as np\n",
    "np.random.seed(20200910)\n",
    "writer = SummaryWriter(\"../logs/tensorboard_tb\") # 保存路径名\n",
    "for n_iter in range(100):\n",
    "    writer.add_scalar('Loss/train', np.random.random(), n_iter)\n",
    "    writer.add_scalar('Loss/test', np.random.random(), n_iter)\n",
    "    writer.add_scalar('Accuracy/train', np.random.random(), n_iter)\n",
    "    writer.add_scalar('Accuracy/test', np.random.random(), n_iter)\n",
    "writer.close()\n",
    "print(\"结束\")"
   ]
  },
  {
   "cell_type": "markdown",
   "metadata": {
    "collapsed": false,
    "pycharm": {
     "name": "#%% md\n"
    }
   },
   "source": [
    "## 2 writer.add_image(\"train_set\", img, i) 单个图片\n",
    "\n",
    "![](http://localhost:6006/data/plugin/images/individualImage?ts=1653379330.8029754&blob_key=WyIiLCIuIiwidHJhaW5fc2V0Iiw5LDJd)\n",
    "![](http://localhost:6006/data/plugin/images/individualImage?ts=1653386044.071626&blob_key=WyIiLCIuIiwiaW1nIiwxLDJd)"
   ]
  },
  {
   "cell_type": "code",
   "execution_count": null,
   "metadata": {
    "collapsed": false,
    "pycharm": {
     "name": "#%%\n"
    }
   },
   "outputs": [],
   "source": [
    "\n",
    "\n",
    "import  torchvision\n",
    "\n",
    "# 转格式\n",
    "from torch.utils.tensorboard import SummaryWriter\n",
    "\n",
    "data_transform = torchvision.transforms.Compose([\n",
    "    torchvision.transforms.ToTensor()\n",
    "])\n",
    "train_set = torchvision.datasets.CIFAR10(root=\"../data\", train=True, transform=data_transform, download=True)\n",
    "\n",
    "writer = SummaryWriter(\"../logs/p10\")\n",
    "for i in range(10):\n",
    "    img, target = train_set[i]\n",
    "    writer.add_image(\"train_set\", img, i)\n",
    "\n",
    "writer.close()\n",
    "print(\"结束\")\n"
   ]
  },
  {
   "cell_type": "code",
   "execution_count": null,
   "metadata": {
    "collapsed": false,
    "pycharm": {
     "name": "#%%\n"
    }
   },
   "outputs": [],
   "source": [
    "from torch.utils.tensorboard import SummaryWriter\n",
    "\n",
    "# 按住ctrl. 鼠标点击查看源码\n",
    "writer = SummaryWriter(\"../logs/tb_test\")\n",
    "# writer.add_scalar() # 标量（数）\n",
    "# writer.add_image() # 图像\n",
    "\n",
    "# 1 saclar\n",
    "for i in range(100):\n",
    "    writer.add_scalar(\"y=x\", i, i)\n",
    "\n",
    "# 2 img\n",
    "img_path = \"../imgs/dog.jpeg\"\n",
    "import cv2\n",
    "img = cv2.imread(img_path)\n",
    "print(type(img)) # numpy格式\n",
    "writer.add_image(\"img\", img, 1, dataformats='HWC')\n",
    "\n",
    "writer.close()\n",
    "\n",
    "print(\"结束\") "
   ]
  },
  {
   "cell_type": "markdown",
   "metadata": {
    "collapsed": false,
    "pycharm": {
     "name": "#%%\n"
    }
   },
   "source": [
    "\n",
    "## 2.1 writer.add_images(\"train_set\", imgs, i) 多个图片\n",
    "![](http://localhost:6006/data/plugin/images/individualImage?ts=1653381793.277779&blob_key=WyIiLCIuIiwiRXBvY2hfMCIsNzgwLDJd)"
   ]
  },
  {
   "cell_type": "code",
   "execution_count": null,
   "metadata": {
    "collapsed": false,
    "pycharm": {
     "name": "#%%\n"
    }
   },
   "outputs": [],
   "source": [
    "import torchvision.datasets\n",
    "from torch.utils.data import DataLoader\n",
    "from torch.utils.tensorboard import SummaryWriter\n",
    "\n",
    "dataset = torchvision.datasets.CIFAR10(\"../data\", train=True, transform=torchvision.transforms.ToTensor(),\n",
    "                                       download=True)\n",
    "#\n",
    "dataloader = DataLoader(dataset, batch_size=64, shuffle=True, num_workers=0, drop_last=True) # drop_last=True 表示最后一个bath舍弃\n",
    "\n",
    "writer = SummaryWriter(\"../logs/dataloader\")\n",
    "for epoch in range(2):\n",
    "    step=0\n",
    "    for data in dataloader:\n",
    "        imgs, target = data\n",
    "        print(imgs.shape)\n",
    "        print(target)\n",
    "        writer.add_images(\"Epoch_%d\"%(epoch), imgs, step)\n",
    "        step +=1\n",
    "writer.close()\n",
    "print(\"结束\")"
   ]
  },
  {
   "cell_type": "code",
   "execution_count": null,
   "metadata": {
    "collapsed": false,
    "pycharm": {
     "name": "#%%\n"
    }
   },
   "outputs": [],
   "source": []
  },
  {
   "cell_type": "markdown",
   "metadata": {},
   "source": [
    "\n",
    "## 1.写到一个类别下\n",
    "参考资料： https://www.cnblogs.com/BlueBlueSea/p/14617515.html"
   ]
  },
  {
   "cell_type": "code",
   "execution_count": 1,
   "metadata": {
    "pycharm": {
     "name": "#%%\n"
    }
   },
   "outputs": [],
   "source": [
    "from torch.utils.tensorboard import SummaryWriter\n",
    "import numpy as np\n",
    "np.random.seed(20200910)\n",
    "writer = SummaryWriter(\"../logs/tensorboard_tb\") # 保存路径名\n",
    "for n_iter in range(100):\n",
    "    writer.add_scalar('Loss/train', np.random.random(), n_iter)\n",
    "    writer.add_scalar('Loss/test', np.random.random(), n_iter)\n",
    "    writer.add_scalar('Accuracy/train', np.random.random(), n_iter)\n",
    "    writer.add_scalar('Accuracy/test', np.random.random(), n_iter)"
   ]
  },
  {
   "cell_type": "markdown",
   "metadata": {
    "pycharm": {
     "name": "#%% md\n"
    }
   },
   "source": [
    "# sh运行\n",
    "## SyntaxError: can't assign to operator 变量名里面不能出现“=”，“+”这些符号3\n",
    "sh tensorboard --logdir = \"./runs\""
   ]
  },
  {
   "cell_type": "markdown",
   "metadata": {
    "pycharm": {
     "name": "#%% md\n"
    }
   },
   "source": [
    "## 2.在同一个图中添加多个变量\n",
    "https://blog.csdn.net/sdnuwjw/article/details/107305358"
   ]
  },
  {
   "cell_type": "code",
   "execution_count": 3,
   "metadata": {
    "pycharm": {
     "name": "#%%\n"
    }
   },
   "outputs": [],
   "source": [
    "import numpy as np\n",
    "from torch.utils.tensorboard import SummaryWriter  # 也可以使用 tensorboardX\n",
    "# from tensorboardX import SummaryWriter  # 也可以使用 pytorch 集成的 tensorboard\n",
    "\n",
    "writer = SummaryWriter()\n",
    "for epoch in range(100):\n",
    "    writer.add_scalar('add_scalar/squared', np.square(epoch), epoch)\n",
    "    writer.add_scalars(\"add_scalars/trigonometric\", \n",
    "{'xsinx': epoch * np.sin(epoch/5), 'xcosx': epoch* np.cos(epoch/5), 'xtanx': np.tan(epoch/5)}, epoch)\n",
    "\n",
    "writer.close()"
   ]
  },
  {
   "cell_type": "code",
   "execution_count": null,
   "metadata": {
    "pycharm": {
     "name": "#%%\n"
    }
   },
   "outputs": [],
   "source": []
  }
 ],
 "metadata": {
  "interpreter": {
   "hash": "34e39c63690641fda45a9b5b3a54295d3c7c7609e6d639cc54d178959f811fe3"
  },
  "kernelspec": {
   "display_name": "Python 3.8.13 ('pcdet')",
   "language": "python",
   "name": "python3"
  },
  "language_info": {
   "codemirror_mode": {
    "name": "ipython",
    "version": 3
   },
   "file_extension": ".py",
   "mimetype": "text/x-python",
   "name": "python",
   "nbconvert_exporter": "python",
   "pygments_lexer": "ipython3",
   "version": "3.8.13"
  },
  "orig_nbformat": 4
 },
 "nbformat": 4,
 "nbformat_minor": 2
}