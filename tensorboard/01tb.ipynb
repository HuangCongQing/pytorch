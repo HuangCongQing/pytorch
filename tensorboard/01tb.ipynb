{
 "cells": [
  {
   "cell_type": "markdown",
   "metadata": {
    "collapsed": false,
    "pycharm": {
     "name": "#%% md\n"
    }
   },
   "source": [
    "\n",
    "\n",
    "\n",
    "\n",
    "\n",
    "\n",
    "```\n",
    "tensorboard --logdir=\"../logs/tensorboard_tb\" \n",
    "```\n"
   ]
  },
  {
   "cell_type": "markdown",
   "metadata": {
    "collapsed": false,
    "pycharm": {
     "name": "#%% md\n"
    }
   },
   "source": [
    "## 1 writer.add_scalar('Loss/train', np.random.random(), i)"
   ]
  },
  {
   "cell_type": "code",
   "execution_count": null,
   "metadata": {
    "collapsed": false,
    "pycharm": {
     "name": "#%%\n"
    }
   },
   "outputs": [],
   "source": [
    "from torch.utils.tensorboard import SummaryWriter\n",
    "import numpy as np\n",
    "np.random.seed(20200910)\n",
    "writer = SummaryWriter(\"../logs/tensorboard_tb\") # 保存路径名\n",
    "for n_iter in range(100):\n",
    "    writer.add_scalar('Loss/train', np.random.random(), n_iter)\n",
    "    writer.add_scalar('Loss/test', np.random.random(), n_iter)\n",
    "    writer.add_scalar('Accuracy/train', np.random.random(), n_iter)\n",
    "    writer.add_scalar('Accuracy/test', np.random.random(), n_iter)\n",
    "writer.close()\n",
    "print(\"结束\")"
   ]
  },
  {
   "cell_type": "markdown",
   "source": [
    "## 2 writer.add_image(\"train_set\", img, i) 单个图片\n",
    "## 2.1 writer.add_images(\"train_set\", imgs, i) 多个图片\n",
    "\n",
    "![](http://localhost:6006/data/plugin/images/individualImage?ts=1653379330.8029754&blob_key=WyIiLCIuIiwidHJhaW5fc2V0Iiw5LDJd)"
   ],
   "metadata": {
    "collapsed": false,
    "pycharm": {
     "name": "#%% md\n"
    }
   }
  },
  {
   "cell_type": "code",
   "execution_count": null,
   "outputs": [],
   "source": [
    "\n",
    "\n",
    "import  torchvision\n",
    "\n",
    "# 转格式\n",
    "from torch.utils.tensorboard import SummaryWriter\n",
    "\n",
    "data_transform = torchvision.transforms.Compose([\n",
    "    torchvision.transforms.ToTensor()\n",
    "])\n",
    "train_set = torchvision.datasets.CIFAR10(root=\"../data\", train=True, transform=data_transform, download=True)\n",
    "\n",
    "writer = SummaryWriter(\"../logs/p10\")\n",
    "for i in range(10):\n",
    "    img, target = train_set[i]\n",
    "    writer.add_image(\"train_set\", img, i)\n",
    "\n",
    "writer.close()\n",
    "print(\"结束\")\n"
   ],
   "metadata": {
    "collapsed": false,
    "pycharm": {
     "name": "#%%\n"
    }
   }
  },
  {
   "cell_type": "code",
   "execution_count": null,
   "outputs": [],
   "source": [],
   "metadata": {
    "collapsed": false,
    "pycharm": {
     "name": "#%%\n"
    }
   }
  },
  {
   "cell_type": "code",
   "execution_count": null,
   "metadata": {
    "collapsed": false,
    "pycharm": {
     "name": "#%%\n"
    }
   },
   "outputs": [],
   "source": []
  },
  {
   "cell_type": "code",
   "execution_count": null,
   "metadata": {
    "collapsed": false,
    "pycharm": {
     "name": "#%%\n"
    }
   },
   "outputs": [],
   "source": []
  },
  {
   "cell_type": "code",
   "execution_count": null,
   "metadata": {
    "collapsed": false,
    "pycharm": {
     "name": "#%%\n"
    }
   },
   "outputs": [],
   "source": []
  },
  {
   "cell_type": "code",
   "execution_count": null,
   "metadata": {},
   "outputs": [],
   "source": []
  },
  {
   "cell_type": "markdown",
   "metadata": {},
   "source": [
    "\n",
    "## 1.写到一个类别下\n",
    "参考资料： https://www.cnblogs.com/BlueBlueSea/p/14617515.html"
   ]
  },
  {
   "cell_type": "code",
   "execution_count": 1,
   "metadata": {
    "pycharm": {
     "name": "#%%\n"
    }
   },
   "outputs": [],
   "source": [
    "from torch.utils.tensorboard import SummaryWriter\n",
    "import numpy as np\n",
    "np.random.seed(20200910)\n",
    "writer = SummaryWriter(\"../logs/tensorboard_tb\") # 保存路径名\n",
    "for n_iter in range(100):\n",
    "    writer.add_scalar('Loss/train', np.random.random(), n_iter)\n",
    "    writer.add_scalar('Loss/test', np.random.random(), n_iter)\n",
    "    writer.add_scalar('Accuracy/train', np.random.random(), n_iter)\n",
    "    writer.add_scalar('Accuracy/test', np.random.random(), n_iter)"
   ]
  },
  {
   "cell_type": "markdown",
   "metadata": {
    "pycharm": {
     "name": "#%% md\n"
    }
   },
   "source": [
    "# sh运行\n",
    "## SyntaxError: can't assign to operator 变量名里面不能出现“=”，“+”这些符号3\n",
    "sh tensorboard --logdir = \"./runs\""
   ]
  },
  {
   "cell_type": "markdown",
   "metadata": {
    "pycharm": {
     "name": "#%% md\n"
    }
   },
   "source": [
    "## 2.在同一个图中添加多个变量\n",
    "https://blog.csdn.net/sdnuwjw/article/details/107305358"
   ]
  },
  {
   "cell_type": "code",
   "execution_count": 3,
   "metadata": {
    "pycharm": {
     "name": "#%%\n"
    }
   },
   "outputs": [],
   "source": [
    "import numpy as np\n",
    "from torch.utils.tensorboard import SummaryWriter  # 也可以使用 tensorboardX\n",
    "# from tensorboardX import SummaryWriter  # 也可以使用 pytorch 集成的 tensorboard\n",
    "\n",
    "writer = SummaryWriter()\n",
    "for epoch in range(100):\n",
    "    writer.add_scalar('add_scalar/squared', np.square(epoch), epoch)\n",
    "    writer.add_scalars(\"add_scalars/trigonometric\", \n",
    "{'xsinx': epoch * np.sin(epoch/5), 'xcosx': epoch* np.cos(epoch/5), 'xtanx': np.tan(epoch/5)}, epoch)\n",
    "\n",
    "writer.close()"
   ]
  },
  {
   "cell_type": "code",
   "execution_count": null,
   "metadata": {
    "pycharm": {
     "name": "#%%\n"
    }
   },
   "outputs": [],
   "source": []
  }
 ],
 "metadata": {
  "interpreter": {
   "hash": "34e39c63690641fda45a9b5b3a54295d3c7c7609e6d639cc54d178959f811fe3"
  },
  "kernelspec": {
   "display_name": "Python 3.8.13 ('pcdet')",
   "language": "python",
   "name": "python3"
  },
  "language_info": {
   "codemirror_mode": {
    "name": "ipython",
    "version": 3
   },
   "file_extension": ".py",
   "mimetype": "text/x-python",
   "name": "python",
   "nbconvert_exporter": "python",
   "pygments_lexer": "ipython3",
   "version": "3.8.13"
  },
  "orig_nbformat": 4
 },
 "nbformat": 4,
 "nbformat_minor": 2
}